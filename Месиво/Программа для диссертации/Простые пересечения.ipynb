{
 "cells": [
  {
   "cell_type": "code",
   "execution_count": 20,
   "metadata": {},
   "outputs": [],
   "source": [
    "import copy\n",
    "import pandas as pd\n",
    "import random\n",
    "import sys\n",
    "\n",
    "inputFile = pd.read_csv(u\"Управление анкетой 2.csv\", header=-1, sep='\\t')\n",
    "inputFile = inputFile.fillna('')\n",
    "lengthOfInputFile = inputFile.shape[0]\n",
    "widthOfInputFile = inputFile.shape[1]\n",
    "N = 1000   # Количество опрашиваемых"
   ]
  },
  {
   "cell_type": "code",
   "execution_count": 21,
   "metadata": {},
   "outputs": [],
   "source": [
    "#inputFile"
   ]
  },
  {
   "cell_type": "code",
   "execution_count": 22,
   "metadata": {},
   "outputs": [],
   "source": [
    "#inputFile[0][3]"
   ]
  },
  {
   "cell_type": "markdown",
   "metadata": {},
   "source": [
    "# Вспомогательные функции"
   ]
  },
  {
   "cell_type": "markdown",
   "metadata": {},
   "source": [
    "## Добавление распределения"
   ]
  },
  {
   "cell_type": "code",
   "execution_count": 23,
   "metadata": {},
   "outputs": [],
   "source": [
    "def addDistribution(distributionsDict, inputFile, iVariants, iValues, title, distributionName, decodingDict):\n",
    "    j = 0\n",
    "    distributionsDict[title][distributionName] = []\n",
    "    while True:\n",
    "        #print 'строка ' + str(iValues) + '\\tстолбец ' + str(j)\n",
    "        if j >= inputFile.shape[1]:\n",
    "            #print 'Край таблицы'\n",
    "            break\n",
    "        if inputFile[j][iVariants] == '':\n",
    "            #print 'Кончились варианты'\n",
    "            break\n",
    "        if inputFile[j][iValues] == '':\n",
    "            print 'Отсутствует вероятность для ' + inputFile[j][iVariants] + ' в строке ' + str(iValues)\n",
    "            return -1\n",
    "        decodingDict[title][j+1] = inputFile[j][iVariants]     # Создаём заодно таблицу дешифровки численных кодов\n",
    "        distributionsDict[title][distributionName].append(float(inputFile[j][iValues]))\n",
    "        j += 1\n",
    "    \n",
    "    # Проверка\n",
    "    mySum = 0\n",
    "    for item in distributionsDict[title][distributionName]:\n",
    "        mySum += item\n",
    "    if mySum > 1:\n",
    "        print 'Неправильно указаны вероятности для вопроса ' + str(title) + ' в строке ' + str(iValues)\n",
    "        return -1\n",
    "    \n",
    "    #print pd.DataFrame(distributionsDict[title][distributionName])\n",
    "    return 0"
   ]
  },
  {
   "cell_type": "markdown",
   "metadata": {},
   "source": [
    "## Добавление ответа"
   ]
  },
  {
   "cell_type": "code",
   "execution_count": 24,
   "metadata": {},
   "outputs": [],
   "source": [
    "def addAnswer(answersDict, title, distribution):\n",
    "    answer = random.random()\n",
    "    i = 1\n",
    "    mySum = 0\n",
    "    for item in distribution:\n",
    "        #print item\n",
    "        #print distribution[item]\n",
    "        mySum += item\n",
    "        #print mySum\n",
    "        if answer < mySum:\n",
    "            #print 'answer ' + str(answer) + '\\t<\\tmySum ' + str(mySum)\n",
    "            answer = i\n",
    "            #print 'Final answer:\\t' + str(answer)\n",
    "            break\n",
    "        #else:\n",
    "            #print 'answer ' + str(answer) + '\\t>\\tmySum ' + str(mySum)\n",
    "        i += 1\n",
    "    #print answer\n",
    "    answersDict[title].append(answer)\n",
    "    return 0"
   ]
  },
  {
   "cell_type": "markdown",
   "metadata": {},
   "source": [
    "# Создаём ключи словаря"
   ]
  },
  {
   "cell_type": "code",
   "execution_count": 25,
   "metadata": {},
   "outputs": [],
   "source": [
    "questionsDict = {}\n",
    "for i in range(1, 23):\n",
    "    questionsDict['q' + str(i)] = {}"
   ]
  },
  {
   "cell_type": "markdown",
   "metadata": {},
   "source": [
    "# Заполняем правила"
   ]
  },
  {
   "cell_type": "code",
   "execution_count": 26,
   "metadata": {},
   "outputs": [],
   "source": [
    "distributionsDict = copy.deepcopy(questionsDict)\n",
    "decodingDict = copy.deepcopy(questionsDict)\n",
    "questionNumber = 0\n",
    "for i in range(lengthOfInputFile):  # Идём по каждой строке исходной таблицы\n",
    "    firstCell = inputFile[0][i]\n",
    "    if firstCell.lstrip('#') == str(questionNumber + 1):    # Нашли что-то похожее на вопрос?\n",
    "        questionNumber += 1\n",
    "        \n",
    "        if questionNumber == 21:\n",
    "            continue\n",
    "        \n",
    "        # Здесь надо будет научиться определять тип вопроса\n",
    "        \n",
    "        # Выбор одного из вариантов\n",
    "        j = 0\n",
    "        EndOfQuestion = False\n",
    "        while not EndOfQuestion:\n",
    "            errorCode = 0\n",
    "            \n",
    "            if i + j >= lengthOfInputFile:    # Обработка конца таблицы\n",
    "                EndOfQuestion = True\n",
    "                continue\n",
    "                \n",
    "            firstCell = inputFile[0][i + j]    # Новый вопрос знаменуется строкой с решёткой в начале\n",
    "            if firstCell.lstrip('#') == str(questionNumber + 1):\n",
    "                EndOfQuestion = True\n",
    "                continue\n",
    "            \n",
    "            if j == 2:    # Распределение по умолчанию\n",
    "                errorCode = addDistribution(distributionsDict, inputFile, i + j, i + j + 1, 'q' + str(questionNumber), 'Default', decodingDict)\n",
    "            \n",
    "            if firstCell.find('&&&') != -1: # Распределение с логическим условием\n",
    "                k = 1\n",
    "                key = ['&&&']\n",
    "                while inputFile[k][i + j] != '':\n",
    "                    key.append( (inputFile[k][i + j], inputFile[k + 1][i + j]) ) \n",
    "                    if k+1 == widthOfInputFile:\n",
    "                        break\n",
    "                    k += 2\n",
    "                key = tuple(key)\n",
    "                \n",
    "                errorCode = addDistribution(distributionsDict, inputFile, i + 2, i + j + 1, 'q' + str(questionNumber), key, decodingDict)\n",
    "            \n",
    "            if ( errorCode == -1 ):\n",
    "                print 'Поправьте распределение!'\n",
    "                sys.exit()\n",
    "                \n",
    "            #print questionNumber\n",
    "                \n",
    "               \n",
    "            j += 1\n",
    "        \n",
    "        questionsDict['q' + str(questionNumber)]"
   ]
  },
  {
   "cell_type": "code",
   "execution_count": 27,
   "metadata": {},
   "outputs": [],
   "source": [
    "#pd.DataFrame(distributionsDict)"
   ]
  },
  {
   "cell_type": "code",
   "execution_count": 28,
   "metadata": {},
   "outputs": [],
   "source": [
    "#decodingDict"
   ]
  },
  {
   "cell_type": "markdown",
   "metadata": {},
   "source": [
    "# Формируем заголовки таблицы ответов"
   ]
  },
  {
   "cell_type": "code",
   "execution_count": 29,
   "metadata": {},
   "outputs": [],
   "source": [
    "answersDict = copy.deepcopy(questionsDict)\n",
    "for i in range(1, 23):\n",
    "    title = 'q' + str(i)\n",
    "    answersDict[title] = []"
   ]
  },
  {
   "cell_type": "markdown",
   "metadata": {},
   "source": [
    "# Бегаем по опрашиваемым"
   ]
  },
  {
   "cell_type": "code",
   "execution_count": 30,
   "metadata": {},
   "outputs": [],
   "source": [
    "for i in range(N):\n",
    "    questionNumber = 0\n",
    "    for j in range(1, 23):\n",
    "        \n",
    "        title = 'q' + str(j)\n",
    "        \n",
    "        \n",
    "        if j == 21:    #заглушка\n",
    "            answersDict[title].append(0)\n",
    "            continue\n",
    "            \n",
    "        key = 'Default'\n",
    "        for distribution in distributionsDict[title]:\n",
    "            if distribution[0] == '&&&':    # Проверим-ка, выполняется ли условие:\n",
    "                # Если ответ на вопрос ## отвечает значению ???????, то выбираем это распределение\n",
    "                # Проблема: мы только что перешли от тройного словаря к двойному словарю со списками, \n",
    "                # и пар номера-значения у нас больше нет\n",
    "                targetQuestionTitle = 'q'+str(distribution[1][0])\n",
    "                #print decodingDict[targetQuestionTitle][answersDict[targetQuestionTitle][-1]]\n",
    "                #print str(distribution[1][1])\n",
    "                if decodingDict[targetQuestionTitle][answersDict[targetQuestionTitle][-1]] == str(distribution[1][1]):\n",
    "                    key = distribution\n",
    "        addAnswer(answersDict, title, distributionsDict[title][key])  "
   ]
  },
  {
   "cell_type": "code",
   "execution_count": 31,
   "metadata": {},
   "outputs": [
    {
     "data": {
      "text/plain": [
       "'Default'"
      ]
     },
     "execution_count": 31,
     "metadata": {},
     "output_type": "execute_result"
    }
   ],
   "source": [
    "distribution"
   ]
  },
  {
   "cell_type": "code",
   "execution_count": 32,
   "metadata": {},
   "outputs": [],
   "source": [
    "result = pd.DataFrame(answersDict)\n"
   ]
  },
  {
   "cell_type": "code",
   "execution_count": 33,
   "metadata": {},
   "outputs": [],
   "source": [
    "#result.columns"
   ]
  },
  {
   "cell_type": "code",
   "execution_count": 34,
   "metadata": {},
   "outputs": [],
   "source": [
    "#sorted(sorted(result.columns), key = lambda myStr: len(myStr))"
   ]
  },
  {
   "cell_type": "code",
   "execution_count": 35,
   "metadata": {},
   "outputs": [],
   "source": [
    "result = result.reindex(sorted(sorted(result.columns), key = lambda myStr: len(myStr)), axis=1)"
   ]
  },
  {
   "cell_type": "code",
   "execution_count": 36,
   "metadata": {},
   "outputs": [],
   "source": [
    "result.to_csv('output.csv', sep='\\t', header=True, index=False)"
   ]
  },
  {
   "cell_type": "code",
   "execution_count": 37,
   "metadata": {},
   "outputs": [],
   "source": [
    "#result"
   ]
  }
 ],
 "metadata": {
  "kernelspec": {
   "display_name": "Python 2",
   "language": "python",
   "name": "python2"
  },
  "language_info": {
   "codemirror_mode": {
    "name": "ipython",
    "version": 2
   },
   "file_extension": ".py",
   "mimetype": "text/x-python",
   "name": "python",
   "nbconvert_exporter": "python",
   "pygments_lexer": "ipython2",
   "version": "2.7.15"
  }
 },
 "nbformat": 4,
 "nbformat_minor": 2
}
