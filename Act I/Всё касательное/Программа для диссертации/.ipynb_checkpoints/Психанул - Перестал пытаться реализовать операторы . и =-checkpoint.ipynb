{
 "cells": [
  {
   "cell_type": "markdown",
   "metadata": {},
   "source": [
    "# Структурные функции и классы"
   ]
  },
  {
   "cell_type": "markdown",
   "metadata": {},
   "source": [
    "## Read File"
   ]
  },
  {
   "cell_type": "code",
   "execution_count": 1,
   "metadata": {},
   "outputs": [],
   "source": [
    "def readFile(filename):\n",
    "    return inputFile"
   ]
  },
  {
   "cell_type": "markdown",
   "metadata": {},
   "source": [
    "## Get Number Of Responses"
   ]
  },
  {
   "cell_type": "code",
   "execution_count": 2,
   "metadata": {},
   "outputs": [],
   "source": [
    "def getNumberOfResponses(inputFile):\n",
    "    return N"
   ]
  },
  {
   "cell_type": "markdown",
   "metadata": {},
   "source": [
    "## Questions and Their List"
   ]
  },
  {
   "cell_type": "code",
   "execution_count": null,
   "metadata": {},
   "outputs": [],
   "source": [
    "class QuestionClass:\n",
    "    \n",
    "    NumberOfReadLineInInputFile = -1\n",
    "    \n",
    "    def __init__(self):\n",
    "        self.type = self.type('SingleChoice')\n",
    "        self.number = self.number(-1)\n",
    "        self.RulesList = self.RulesList([])\n",
    "    \n",
    "    class CommonClass:\n",
    "        \n",
    "        def __init__(self, some_value):\n",
    "            self.value = some_value\n",
    "            \n",
    "        def __call__(self):\n",
    "            return self.value\n",
    "            \n",
    "        def get(self):\n",
    "            self.value = 'foo value'\n",
    "            \n",
    "        \n"
   ]
  },
  {
   "cell_type": "markdown",
   "metadata": {},
   "source": [
    "# Основная программа"
   ]
  },
  {
   "cell_type": "code",
   "execution_count": null,
   "metadata": {},
   "outputs": [],
   "source": [
    "inputFile = readFile(u\"Управление анкетой 2.csv\")\n",
    "NumberOfResponses = getNumberOfResponses(inputFile)\n",
    "QuestionsList = getBlankQuestionsList(inputFile)\n",
    "for question in QuestionsList:\n",
    "    question.number.get() #= getNumber(inputFile)\n",
    "    question.type.get() #= getType(inputFile)    # if possible\n",
    "    question.RulesList.get() #= getRulesList(inputFile, question.type) # send type\n",
    "\n",
    "ResponsesList = createResponsesListFilledWithBlankAnswers(NumberOfResponses)\n",
    "for response in ResponsesList:\n",
    "    for question in QuestionsList:\n",
    "        response[question.number] = generateAnswer(question.RulesList)\n",
    "\n",
    "saveResponses(ResponsesList)"
   ]
  }
 ],
 "metadata": {
  "kernelspec": {
   "display_name": "Python 2",
   "language": "python",
   "name": "python2"
  },
  "language_info": {
   "codemirror_mode": {
    "name": "ipython",
    "version": 2
   },
   "file_extension": ".py",
   "mimetype": "text/x-python",
   "name": "python",
   "nbconvert_exporter": "python",
   "pygments_lexer": "ipython2",
   "version": "2.7.15"
  }
 },
 "nbformat": 4,
 "nbformat_minor": 2
}
